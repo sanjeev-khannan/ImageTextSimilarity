{
  "cells": [
    {
      "cell_type": "code",
      "execution_count": null,
      "id": "7ef1efda",
      "metadata": {
        "id": "7ef1efda"
      },
      "outputs": [],
      "source": [
        "import pandas as pd\n",
        "import tensorflow as tf\n",
        "from tensorflow.keras.preprocessing.image import img_to_array, load_img\n",
        "from tensorflow.keras.preprocessing.text import Tokenizer\n",
        "from tensorflow.keras.preprocessing.sequence import pad_sequences"
      ]
    },
    {
      "cell_type": "markdown",
      "source": [],
      "metadata": {
        "id": "luIO2XEhV1lD"
      },
      "id": "luIO2XEhV1lD"
    },
    {
      "cell_type": "code",
      "source": [
        "from google.colab import drive\n",
        "drive.mount('/content/drive')"
      ],
      "metadata": {
        "colab": {
          "base_uri": "https://localhost:8080/"
        },
        "id": "O8eH37_wXtif",
        "outputId": "e3440ead-9b44-4737-ab63-e7e1f6bcbd3f"
      },
      "id": "O8eH37_wXtif",
      "execution_count": null,
      "outputs": [
        {
          "output_type": "stream",
          "name": "stdout",
          "text": [
            "Mounted at /content/drive\n"
          ]
        }
      ]
    },
    {
      "cell_type": "code",
      "execution_count": null,
      "id": "9f20f0e5",
      "metadata": {
        "colab": {
          "base_uri": "https://localhost:8080/",
          "height": 424
        },
        "id": "9f20f0e5",
        "outputId": "db50e76d-53f7-4559-c79d-b2ecc7fd0535"
      },
      "outputs": [
        {
          "output_type": "execute_result",
          "data": {
            "text/plain": [
              "            image_name   comment_number  \\\n",
              "0       1000092795.jpg                0   \n",
              "1       1000092795.jpg                1   \n",
              "2       1000092795.jpg                2   \n",
              "3       1000092795.jpg                3   \n",
              "4       1000092795.jpg                4   \n",
              "...                ...              ...   \n",
              "158910   998845445.jpg                0   \n",
              "158911   998845445.jpg                1   \n",
              "158912   998845445.jpg                2   \n",
              "158913   998845445.jpg                3   \n",
              "158914   998845445.jpg                4   \n",
              "\n",
              "                                                  comment  \n",
              "0        Two young guys with shaggy hair look at their...  \n",
              "1        Two young , White males are outside near many...  \n",
              "2        Two men in green shirts are standing in a yard .  \n",
              "3            A man in a blue shirt standing in a garden .  \n",
              "4                 Two friends enjoy time spent together .  \n",
              "...                                                   ...  \n",
              "158910   A man in shorts and a Hawaiian shirt leans ov...  \n",
              "158911   A young man hanging over the side of a boat ,...  \n",
              "158912   A man is leaning off of the side of a blue an...  \n",
              "158913   A man riding a small boat in a harbor , with ...  \n",
              "158914   A man on a moored blue and white boat with hi...  \n",
              "\n",
              "[158915 rows x 3 columns]"
            ],
            "text/html": [
              "\n",
              "  <div id=\"df-b6b65790-52cb-42e6-850e-45173366b19a\" class=\"colab-df-container\">\n",
              "    <div>\n",
              "<style scoped>\n",
              "    .dataframe tbody tr th:only-of-type {\n",
              "        vertical-align: middle;\n",
              "    }\n",
              "\n",
              "    .dataframe tbody tr th {\n",
              "        vertical-align: top;\n",
              "    }\n",
              "\n",
              "    .dataframe thead th {\n",
              "        text-align: right;\n",
              "    }\n",
              "</style>\n",
              "<table border=\"1\" class=\"dataframe\">\n",
              "  <thead>\n",
              "    <tr style=\"text-align: right;\">\n",
              "      <th></th>\n",
              "      <th>image_name</th>\n",
              "      <th>comment_number</th>\n",
              "      <th>comment</th>\n",
              "    </tr>\n",
              "  </thead>\n",
              "  <tbody>\n",
              "    <tr>\n",
              "      <th>0</th>\n",
              "      <td>1000092795.jpg</td>\n",
              "      <td>0</td>\n",
              "      <td>Two young guys with shaggy hair look at their...</td>\n",
              "    </tr>\n",
              "    <tr>\n",
              "      <th>1</th>\n",
              "      <td>1000092795.jpg</td>\n",
              "      <td>1</td>\n",
              "      <td>Two young , White males are outside near many...</td>\n",
              "    </tr>\n",
              "    <tr>\n",
              "      <th>2</th>\n",
              "      <td>1000092795.jpg</td>\n",
              "      <td>2</td>\n",
              "      <td>Two men in green shirts are standing in a yard .</td>\n",
              "    </tr>\n",
              "    <tr>\n",
              "      <th>3</th>\n",
              "      <td>1000092795.jpg</td>\n",
              "      <td>3</td>\n",
              "      <td>A man in a blue shirt standing in a garden .</td>\n",
              "    </tr>\n",
              "    <tr>\n",
              "      <th>4</th>\n",
              "      <td>1000092795.jpg</td>\n",
              "      <td>4</td>\n",
              "      <td>Two friends enjoy time spent together .</td>\n",
              "    </tr>\n",
              "    <tr>\n",
              "      <th>...</th>\n",
              "      <td>...</td>\n",
              "      <td>...</td>\n",
              "      <td>...</td>\n",
              "    </tr>\n",
              "    <tr>\n",
              "      <th>158910</th>\n",
              "      <td>998845445.jpg</td>\n",
              "      <td>0</td>\n",
              "      <td>A man in shorts and a Hawaiian shirt leans ov...</td>\n",
              "    </tr>\n",
              "    <tr>\n",
              "      <th>158911</th>\n",
              "      <td>998845445.jpg</td>\n",
              "      <td>1</td>\n",
              "      <td>A young man hanging over the side of a boat ,...</td>\n",
              "    </tr>\n",
              "    <tr>\n",
              "      <th>158912</th>\n",
              "      <td>998845445.jpg</td>\n",
              "      <td>2</td>\n",
              "      <td>A man is leaning off of the side of a blue an...</td>\n",
              "    </tr>\n",
              "    <tr>\n",
              "      <th>158913</th>\n",
              "      <td>998845445.jpg</td>\n",
              "      <td>3</td>\n",
              "      <td>A man riding a small boat in a harbor , with ...</td>\n",
              "    </tr>\n",
              "    <tr>\n",
              "      <th>158914</th>\n",
              "      <td>998845445.jpg</td>\n",
              "      <td>4</td>\n",
              "      <td>A man on a moored blue and white boat with hi...</td>\n",
              "    </tr>\n",
              "  </tbody>\n",
              "</table>\n",
              "<p>158915 rows × 3 columns</p>\n",
              "</div>\n",
              "    <div class=\"colab-df-buttons\">\n",
              "\n",
              "  <div class=\"colab-df-container\">\n",
              "    <button class=\"colab-df-convert\" onclick=\"convertToInteractive('df-b6b65790-52cb-42e6-850e-45173366b19a')\"\n",
              "            title=\"Convert this dataframe to an interactive table.\"\n",
              "            style=\"display:none;\">\n",
              "\n",
              "  <svg xmlns=\"http://www.w3.org/2000/svg\" height=\"24px\" viewBox=\"0 -960 960 960\">\n",
              "    <path d=\"M120-120v-720h720v720H120Zm60-500h600v-160H180v160Zm220 220h160v-160H400v160Zm0 220h160v-160H400v160ZM180-400h160v-160H180v160Zm440 0h160v-160H620v160ZM180-180h160v-160H180v160Zm440 0h160v-160H620v160Z\"/>\n",
              "  </svg>\n",
              "    </button>\n",
              "\n",
              "  <style>\n",
              "    .colab-df-container {\n",
              "      display:flex;\n",
              "      gap: 12px;\n",
              "    }\n",
              "\n",
              "    .colab-df-convert {\n",
              "      background-color: #E8F0FE;\n",
              "      border: none;\n",
              "      border-radius: 50%;\n",
              "      cursor: pointer;\n",
              "      display: none;\n",
              "      fill: #1967D2;\n",
              "      height: 32px;\n",
              "      padding: 0 0 0 0;\n",
              "      width: 32px;\n",
              "    }\n",
              "\n",
              "    .colab-df-convert:hover {\n",
              "      background-color: #E2EBFA;\n",
              "      box-shadow: 0px 1px 2px rgba(60, 64, 67, 0.3), 0px 1px 3px 1px rgba(60, 64, 67, 0.15);\n",
              "      fill: #174EA6;\n",
              "    }\n",
              "\n",
              "    .colab-df-buttons div {\n",
              "      margin-bottom: 4px;\n",
              "    }\n",
              "\n",
              "    [theme=dark] .colab-df-convert {\n",
              "      background-color: #3B4455;\n",
              "      fill: #D2E3FC;\n",
              "    }\n",
              "\n",
              "    [theme=dark] .colab-df-convert:hover {\n",
              "      background-color: #434B5C;\n",
              "      box-shadow: 0px 1px 3px 1px rgba(0, 0, 0, 0.15);\n",
              "      filter: drop-shadow(0px 1px 2px rgba(0, 0, 0, 0.3));\n",
              "      fill: #FFFFFF;\n",
              "    }\n",
              "  </style>\n",
              "\n",
              "    <script>\n",
              "      const buttonEl =\n",
              "        document.querySelector('#df-b6b65790-52cb-42e6-850e-45173366b19a button.colab-df-convert');\n",
              "      buttonEl.style.display =\n",
              "        google.colab.kernel.accessAllowed ? 'block' : 'none';\n",
              "\n",
              "      async function convertToInteractive(key) {\n",
              "        const element = document.querySelector('#df-b6b65790-52cb-42e6-850e-45173366b19a');\n",
              "        const dataTable =\n",
              "          await google.colab.kernel.invokeFunction('convertToInteractive',\n",
              "                                                    [key], {});\n",
              "        if (!dataTable) return;\n",
              "\n",
              "        const docLinkHtml = 'Like what you see? Visit the ' +\n",
              "          '<a target=\"_blank\" href=https://colab.research.google.com/notebooks/data_table.ipynb>data table notebook</a>'\n",
              "          + ' to learn more about interactive tables.';\n",
              "        element.innerHTML = '';\n",
              "        dataTable['output_type'] = 'display_data';\n",
              "        await google.colab.output.renderOutput(dataTable, element);\n",
              "        const docLink = document.createElement('div');\n",
              "        docLink.innerHTML = docLinkHtml;\n",
              "        element.appendChild(docLink);\n",
              "      }\n",
              "    </script>\n",
              "  </div>\n",
              "\n",
              "\n",
              "<div id=\"df-92476256-a80b-4ba5-95c5-1e5ece4dc6ee\">\n",
              "  <button class=\"colab-df-quickchart\" onclick=\"quickchart('df-92476256-a80b-4ba5-95c5-1e5ece4dc6ee')\"\n",
              "            title=\"Suggest charts\"\n",
              "            style=\"display:none;\">\n",
              "\n",
              "<svg xmlns=\"http://www.w3.org/2000/svg\" height=\"24px\"viewBox=\"0 0 24 24\"\n",
              "     width=\"24px\">\n",
              "    <g>\n",
              "        <path d=\"M19 3H5c-1.1 0-2 .9-2 2v14c0 1.1.9 2 2 2h14c1.1 0 2-.9 2-2V5c0-1.1-.9-2-2-2zM9 17H7v-7h2v7zm4 0h-2V7h2v10zm4 0h-2v-4h2v4z\"/>\n",
              "    </g>\n",
              "</svg>\n",
              "  </button>\n",
              "\n",
              "<style>\n",
              "  .colab-df-quickchart {\n",
              "      --bg-color: #E8F0FE;\n",
              "      --fill-color: #1967D2;\n",
              "      --hover-bg-color: #E2EBFA;\n",
              "      --hover-fill-color: #174EA6;\n",
              "      --disabled-fill-color: #AAA;\n",
              "      --disabled-bg-color: #DDD;\n",
              "  }\n",
              "\n",
              "  [theme=dark] .colab-df-quickchart {\n",
              "      --bg-color: #3B4455;\n",
              "      --fill-color: #D2E3FC;\n",
              "      --hover-bg-color: #434B5C;\n",
              "      --hover-fill-color: #FFFFFF;\n",
              "      --disabled-bg-color: #3B4455;\n",
              "      --disabled-fill-color: #666;\n",
              "  }\n",
              "\n",
              "  .colab-df-quickchart {\n",
              "    background-color: var(--bg-color);\n",
              "    border: none;\n",
              "    border-radius: 50%;\n",
              "    cursor: pointer;\n",
              "    display: none;\n",
              "    fill: var(--fill-color);\n",
              "    height: 32px;\n",
              "    padding: 0;\n",
              "    width: 32px;\n",
              "  }\n",
              "\n",
              "  .colab-df-quickchart:hover {\n",
              "    background-color: var(--hover-bg-color);\n",
              "    box-shadow: 0 1px 2px rgba(60, 64, 67, 0.3), 0 1px 3px 1px rgba(60, 64, 67, 0.15);\n",
              "    fill: var(--button-hover-fill-color);\n",
              "  }\n",
              "\n",
              "  .colab-df-quickchart-complete:disabled,\n",
              "  .colab-df-quickchart-complete:disabled:hover {\n",
              "    background-color: var(--disabled-bg-color);\n",
              "    fill: var(--disabled-fill-color);\n",
              "    box-shadow: none;\n",
              "  }\n",
              "\n",
              "  .colab-df-spinner {\n",
              "    border: 2px solid var(--fill-color);\n",
              "    border-color: transparent;\n",
              "    border-bottom-color: var(--fill-color);\n",
              "    animation:\n",
              "      spin 1s steps(1) infinite;\n",
              "  }\n",
              "\n",
              "  @keyframes spin {\n",
              "    0% {\n",
              "      border-color: transparent;\n",
              "      border-bottom-color: var(--fill-color);\n",
              "      border-left-color: var(--fill-color);\n",
              "    }\n",
              "    20% {\n",
              "      border-color: transparent;\n",
              "      border-left-color: var(--fill-color);\n",
              "      border-top-color: var(--fill-color);\n",
              "    }\n",
              "    30% {\n",
              "      border-color: transparent;\n",
              "      border-left-color: var(--fill-color);\n",
              "      border-top-color: var(--fill-color);\n",
              "      border-right-color: var(--fill-color);\n",
              "    }\n",
              "    40% {\n",
              "      border-color: transparent;\n",
              "      border-right-color: var(--fill-color);\n",
              "      border-top-color: var(--fill-color);\n",
              "    }\n",
              "    60% {\n",
              "      border-color: transparent;\n",
              "      border-right-color: var(--fill-color);\n",
              "    }\n",
              "    80% {\n",
              "      border-color: transparent;\n",
              "      border-right-color: var(--fill-color);\n",
              "      border-bottom-color: var(--fill-color);\n",
              "    }\n",
              "    90% {\n",
              "      border-color: transparent;\n",
              "      border-bottom-color: var(--fill-color);\n",
              "    }\n",
              "  }\n",
              "</style>\n",
              "\n",
              "  <script>\n",
              "    async function quickchart(key) {\n",
              "      const quickchartButtonEl =\n",
              "        document.querySelector('#' + key + ' button');\n",
              "      quickchartButtonEl.disabled = true;  // To prevent multiple clicks.\n",
              "      quickchartButtonEl.classList.add('colab-df-spinner');\n",
              "      try {\n",
              "        const charts = await google.colab.kernel.invokeFunction(\n",
              "            'suggestCharts', [key], {});\n",
              "      } catch (error) {\n",
              "        console.error('Error during call to suggestCharts:', error);\n",
              "      }\n",
              "      quickchartButtonEl.classList.remove('colab-df-spinner');\n",
              "      quickchartButtonEl.classList.add('colab-df-quickchart-complete');\n",
              "    }\n",
              "    (() => {\n",
              "      let quickchartButtonEl =\n",
              "        document.querySelector('#df-92476256-a80b-4ba5-95c5-1e5ece4dc6ee button');\n",
              "      quickchartButtonEl.style.display =\n",
              "        google.colab.kernel.accessAllowed ? 'block' : 'none';\n",
              "    })();\n",
              "  </script>\n",
              "</div>\n",
              "\n",
              "  <div id=\"id_5f9bacfe-650d-4dbd-9a93-613799624a11\">\n",
              "    <style>\n",
              "      .colab-df-generate {\n",
              "        background-color: #E8F0FE;\n",
              "        border: none;\n",
              "        border-radius: 50%;\n",
              "        cursor: pointer;\n",
              "        display: none;\n",
              "        fill: #1967D2;\n",
              "        height: 32px;\n",
              "        padding: 0 0 0 0;\n",
              "        width: 32px;\n",
              "      }\n",
              "\n",
              "      .colab-df-generate:hover {\n",
              "        background-color: #E2EBFA;\n",
              "        box-shadow: 0px 1px 2px rgba(60, 64, 67, 0.3), 0px 1px 3px 1px rgba(60, 64, 67, 0.15);\n",
              "        fill: #174EA6;\n",
              "      }\n",
              "\n",
              "      [theme=dark] .colab-df-generate {\n",
              "        background-color: #3B4455;\n",
              "        fill: #D2E3FC;\n",
              "      }\n",
              "\n",
              "      [theme=dark] .colab-df-generate:hover {\n",
              "        background-color: #434B5C;\n",
              "        box-shadow: 0px 1px 3px 1px rgba(0, 0, 0, 0.15);\n",
              "        filter: drop-shadow(0px 1px 2px rgba(0, 0, 0, 0.3));\n",
              "        fill: #FFFFFF;\n",
              "      }\n",
              "    </style>\n",
              "    <button class=\"colab-df-generate\" onclick=\"generateWithVariable('df')\"\n",
              "            title=\"Generate code using this dataframe.\"\n",
              "            style=\"display:none;\">\n",
              "\n",
              "  <svg xmlns=\"http://www.w3.org/2000/svg\" height=\"24px\"viewBox=\"0 0 24 24\"\n",
              "       width=\"24px\">\n",
              "    <path d=\"M7,19H8.4L18.45,9,17,7.55,7,17.6ZM5,21V16.75L18.45,3.32a2,2,0,0,1,2.83,0l1.4,1.43a1.91,1.91,0,0,1,.58,1.4,1.91,1.91,0,0,1-.58,1.4L9.25,21ZM18.45,9,17,7.55Zm-12,3A5.31,5.31,0,0,0,4.9,8.1,5.31,5.31,0,0,0,1,6.5,5.31,5.31,0,0,0,4.9,4.9,5.31,5.31,0,0,0,6.5,1,5.31,5.31,0,0,0,8.1,4.9,5.31,5.31,0,0,0,12,6.5,5.46,5.46,0,0,0,6.5,12Z\"/>\n",
              "  </svg>\n",
              "    </button>\n",
              "    <script>\n",
              "      (() => {\n",
              "      const buttonEl =\n",
              "        document.querySelector('#id_5f9bacfe-650d-4dbd-9a93-613799624a11 button.colab-df-generate');\n",
              "      buttonEl.style.display =\n",
              "        google.colab.kernel.accessAllowed ? 'block' : 'none';\n",
              "\n",
              "      buttonEl.onclick = () => {\n",
              "        google.colab.notebook.generateWithVariable('df');\n",
              "      }\n",
              "      })();\n",
              "    </script>\n",
              "  </div>\n",
              "\n",
              "    </div>\n",
              "  </div>\n"
            ],
            "application/vnd.google.colaboratory.intrinsic+json": {
              "type": "dataframe",
              "variable_name": "df"
            }
          },
          "metadata": {},
          "execution_count": 4
        }
      ],
      "source": [
        "df = pd.read_csv('/content/drive/MyDrive/flickr30k_images/results.csv', delimiter='|')\n",
        "df"
      ]
    },
    {
      "cell_type": "code",
      "execution_count": null,
      "id": "dc83a3ef",
      "metadata": {
        "id": "dc83a3ef"
      },
      "outputs": [],
      "source": [
        "df.columns=['image_name', 'comment_number', 'comment']"
      ]
    },
    {
      "cell_type": "code",
      "execution_count": null,
      "id": "21b1cd80",
      "metadata": {
        "colab": {
          "base_uri": "https://localhost:8080/"
        },
        "id": "21b1cd80",
        "outputId": "3b60df37-456a-40e6-c18e-81b772c81b89"
      },
      "outputs": [
        {
          "output_type": "stream",
          "name": "stdout",
          "text": [
            "<class 'pandas.core.frame.DataFrame'>\n",
            "RangeIndex: 158915 entries, 0 to 158914\n",
            "Data columns (total 3 columns):\n",
            " #   Column          Non-Null Count   Dtype \n",
            "---  ------          --------------   ----- \n",
            " 0   image_name      158915 non-null  object\n",
            " 1   comment_number  158915 non-null  int64 \n",
            " 2   comment         158915 non-null  object\n",
            "dtypes: int64(1), object(2)\n",
            "memory usage: 3.6+ MB\n"
          ]
        }
      ],
      "source": [
        "df.info()"
      ]
    },
    {
      "cell_type": "code",
      "execution_count": null,
      "id": "746fbef6",
      "metadata": {
        "colab": {
          "base_uri": "https://localhost:8080/"
        },
        "id": "746fbef6",
        "outputId": "11a4bf8d-bf10-4fc2-a100-4b6610c6e54f"
      },
      "outputs": [
        {
          "output_type": "execute_result",
          "data": {
            "text/plain": [
              "31783"
            ]
          },
          "metadata": {},
          "execution_count": 7
        }
      ],
      "source": [
        "image_count = len(df.image_name.unique())\n",
        "image_count"
      ]
    },
    {
      "cell_type": "code",
      "execution_count": null,
      "id": "4d13c7e4",
      "metadata": {
        "colab": {
          "base_uri": "https://localhost:8080/"
        },
        "id": "4d13c7e4",
        "outputId": "23a6d3a6-c88a-43fd-ad5a-95fd2da8b6f0"
      },
      "outputs": [
        {
          "output_type": "execute_result",
          "data": {
            "text/plain": [
              "(25426, 127130)"
            ]
          },
          "metadata": {},
          "execution_count": 8
        }
      ],
      "source": [
        "train_set_size = 0.8\n",
        "train_image_count = int(image_count*train_set_size)\n",
        "train_split_index = train_image_count * 5\n",
        "train_image_count, train_split_index"
      ]
    },
    {
      "cell_type": "code",
      "execution_count": null,
      "id": "338c30a3",
      "metadata": {
        "colab": {
          "base_uri": "https://localhost:8080/"
        },
        "id": "338c30a3",
        "outputId": "3d3a1070-f402-4163-9f53-999023ae95c6"
      },
      "outputs": [
        {
          "output_type": "stream",
          "name": "stderr",
          "text": [
            "<ipython-input-9-5bb5a6bc3a0c>:3: SettingWithCopyWarning: \n",
            "A value is trying to be set on a copy of a slice from a DataFrame\n",
            "\n",
            "See the caveats in the documentation: https://pandas.pydata.org/pandas-docs/stable/user_guide/indexing.html#returning-a-view-versus-a-copy\n",
            "  train_df.dropna(inplace=True)\n",
            "<ipython-input-9-5bb5a6bc3a0c>:4: SettingWithCopyWarning: \n",
            "A value is trying to be set on a copy of a slice from a DataFrame\n",
            "\n",
            "See the caveats in the documentation: https://pandas.pydata.org/pandas-docs/stable/user_guide/indexing.html#returning-a-view-versus-a-copy\n",
            "  test_df.dropna(inplace=True)\n"
          ]
        }
      ],
      "source": [
        "train_df = df[:train_split_index]\n",
        "test_df = df[train_split_index:]\n",
        "train_df.dropna(inplace=True)\n",
        "test_df.dropna(inplace=True)"
      ]
    },
    {
      "cell_type": "code",
      "execution_count": null,
      "id": "899a3c2c",
      "metadata": {
        "colab": {
          "base_uri": "https://localhost:8080/"
        },
        "id": "899a3c2c",
        "outputId": "736d7d2d-58ff-4cb3-c3d0-357ae9e892d3"
      },
      "outputs": [
        {
          "output_type": "execute_result",
          "data": {
            "text/plain": [
              "(array(['/content/drive/MyDrive/flickr30k_images/images/1000092795.jpg',\n",
              "        '/content/drive/MyDrive/flickr30k_images/images/1000092795.jpg'],\n",
              "       dtype=object),\n",
              " array(['/content/drive/MyDrive/flickr30k_images/images/4944548179.jpg',\n",
              "        '/content/drive/MyDrive/flickr30k_images/images/4944548179.jpg'],\n",
              "       dtype=object))"
            ]
          },
          "metadata": {},
          "execution_count": 10
        }
      ],
      "source": [
        "img_loc = '/content/drive/MyDrive/flickr30k_images/images/'\n",
        "train_image_paths = img_loc+train_df.image_name\n",
        "train_image_paths = train_image_paths.values\n",
        "\n",
        "val_image_paths = img_loc+test_df.image_name\n",
        "val_image_paths = val_image_paths.values\n",
        "\n",
        "train_image_paths[:2], val_image_paths[:2]"
      ]
    },
    {
      "cell_type": "code",
      "execution_count": null,
      "id": "f1ee17d0",
      "metadata": {
        "id": "f1ee17d0"
      },
      "outputs": [],
      "source": [
        "import re\n",
        "def preprocess(sentence):\n",
        "    try:\n",
        "        sentence = sentence.lower()\n",
        "        return re.sub(r\"[^a-zA-Z0-9 ']\", ' ', sentence)\n",
        "    except Exception as e:\n",
        "        print(sentence, e)\n",
        "        raise(e)"
      ]
    },
    {
      "cell_type": "code",
      "execution_count": null,
      "id": "ec558525",
      "metadata": {
        "colab": {
          "base_uri": "https://localhost:8080/"
        },
        "id": "ec558525",
        "outputId": "bb22be6f-e52f-402a-8b10-0b56615ce54b"
      },
      "outputs": [
        {
          "output_type": "execute_result",
          "data": {
            "text/plain": [
              "(0     two young guys with shaggy hair look at their...\n",
              " 1     two young   white males are outside near many...\n",
              " 2     two men in green shirts are standing in a yard  \n",
              " 3         a man in a blue shirt standing in a garden  \n",
              " 4              two friends enjoy time spent together  \n",
              " Name: comment, dtype: object,\n",
              " 127130     a person painting a mural on the side of a bu...\n",
              " 127131     pedestrians stop to watch a man create a mura...\n",
              " 127132     a painting of a man drinking from a bottle on...\n",
              " 127133     an artist is painting a mural on the side of ...\n",
              " 127134        a crowd gathers to watch the artist at work  \n",
              " Name: comment, dtype: object)"
            ]
          },
          "metadata": {},
          "execution_count": 12
        }
      ],
      "source": [
        "# train_texts = 'startseq'+ train_df.comment + ' endsq'\n",
        "# val_texts = 'startseq'+ test_df.comment + ' endsq'\n",
        "\n",
        "train_texts = train_df.comment.apply(lambda x: preprocess(str(x)))\n",
        "val_texts = test_df.comment.apply(lambda x: preprocess(str(x)))\n",
        "train_texts[:5], val_texts[:5]\n"
      ]
    },
    {
      "cell_type": "code",
      "execution_count": null,
      "id": "74988a2c",
      "metadata": {
        "colab": {
          "base_uri": "https://localhost:8080/"
        },
        "id": "74988a2c",
        "outputId": "f1740765-f406-42e1-e366-cbfd11ca157a"
      },
      "outputs": [
        {
          "output_type": "execute_result",
          "data": {
            "text/plain": [
              "16345"
            ]
          },
          "metadata": {},
          "execution_count": 13
        }
      ],
      "source": [
        "tokenizer = Tokenizer()\n",
        "tokenizer.fit_on_texts(train_texts)\n",
        "vocab_size = len(tokenizer.word_index)+1\n",
        "vocab_size"
      ]
    },
    {
      "cell_type": "code",
      "execution_count": null,
      "id": "f91c0a4e",
      "metadata": {
        "colab": {
          "base_uri": "https://localhost:8080/"
        },
        "id": "f91c0a4e",
        "outputId": "a593d6ac-4a87-49e0-a77c-a08aafde2dda"
      },
      "outputs": [
        {
          "output_type": "execute_result",
          "data": {
            "text/plain": [
              "([[11, 20, 361, 9, 1914, 91, 191, 15, 61, 157, 23, 325, 72, 2, 3, 458],\n",
              "  [11, 20, 19, 711, 12, 49, 75, 177, 1384]],\n",
              " [[1, 55, 334, 1, 893, 4, 3, 144, 8, 1, 66, 23, 13, 12, 29, 76, 168],\n",
              "  [773, 573, 14, 227, 1, 6, 3836, 1, 893, 4, 1, 100, 15, 3, 144, 8, 1, 32]])"
            ]
          },
          "metadata": {},
          "execution_count": 14
        }
      ],
      "source": [
        "train_labels = tokenizer.texts_to_sequences(train_texts)\n",
        "val_labels = tokenizer.texts_to_sequences(val_texts)\n",
        "\n",
        "train_labels[:2], val_labels[:2]"
      ]
    },
    {
      "cell_type": "code",
      "execution_count": null,
      "id": "74428d5e",
      "metadata": {
        "colab": {
          "base_uri": "https://localhost:8080/"
        },
        "id": "74428d5e",
        "outputId": "150339bb-85c1-4b46-ac2c-eb09fe4a0e59"
      },
      "outputs": [
        {
          "output_type": "execute_result",
          "data": {
            "text/plain": [
              "array([[  11,   20,  361,    9, 1914,   91,  191,   15,   61,  157,   23,\n",
              "         325,   72,    2,    3,  458,    0,    0,    0,    0,    0,    0,\n",
              "           0,    0,    0,    0,    0,    0,    0,    0,    0,    0,    0,\n",
              "           0,    0,    0,    0,    0,    0,    0,    0,    0,    0,    0,\n",
              "           0,    0,    0,    0,    0,    0,    0,    0,    0,    0,    0,\n",
              "           0,    0,    0,    0,    0,    0,    0,    0,    0,    0,    0,\n",
              "           0,    0,    0,    0,    0,    0,    0,    0,    0,    0,    0,\n",
              "           0,    0,    0,    0,    0,    0,    0,    0,    0,    0,    0,\n",
              "           0,    0,    0,    0,    0,    0,    0,    0,    0,    0,    0,\n",
              "           0],\n",
              "       [  11,   20,   19,  711,   12,   49,   75,  177, 1384,    0,    0,\n",
              "           0,    0,    0,    0,    0,    0,    0,    0,    0,    0,    0,\n",
              "           0,    0,    0,    0,    0,    0,    0,    0,    0,    0,    0,\n",
              "           0,    0,    0,    0,    0,    0,    0,    0,    0,    0,    0,\n",
              "           0,    0,    0,    0,    0,    0,    0,    0,    0,    0,    0,\n",
              "           0,    0,    0,    0,    0,    0,    0,    0,    0,    0,    0,\n",
              "           0,    0,    0,    0,    0,    0,    0,    0,    0,    0,    0,\n",
              "           0,    0,    0,    0,    0,    0,    0,    0,    0,    0,    0,\n",
              "           0,    0,    0,    0,    0,    0,    0,    0,    0,    0,    0,\n",
              "           0]], dtype=int32)"
            ]
          },
          "metadata": {},
          "execution_count": 15
        }
      ],
      "source": [
        "max_length = 100\n",
        "train_labels = pad_sequences(train_labels, maxlen=max_length, padding='post')\n",
        "val_labels = pad_sequences(val_labels, maxlen=max_length, padding='post')\n",
        "train_labels[:2]"
      ]
    },
    {
      "cell_type": "code",
      "execution_count": null,
      "id": "a104157f",
      "metadata": {
        "colab": {
          "base_uri": "https://localhost:8080/"
        },
        "id": "a104157f",
        "outputId": "9daf725d-1460-45d6-9763-2310824fd9d3"
      },
      "outputs": [
        {
          "output_type": "execute_result",
          "data": {
            "text/plain": [
              "((127130, 100), (31785, 100))"
            ]
          },
          "metadata": {},
          "execution_count": 16
        }
      ],
      "source": [
        "train_labels.shape, val_labels.shape"
      ]
    },
    {
      "cell_type": "code",
      "execution_count": null,
      "id": "4ff047ea",
      "metadata": {
        "colab": {
          "base_uri": "https://localhost:8080/"
        },
        "id": "4ff047ea",
        "outputId": "869826a4-b12f-49bc-de89-4145d8ed32b5"
      },
      "outputs": [
        {
          "output_type": "execute_result",
          "data": {
            "text/plain": [
              "(127130, 100)"
            ]
          },
          "metadata": {},
          "execution_count": 17
        }
      ],
      "source": [
        "train_labels.shape"
      ]
    },
    {
      "cell_type": "code",
      "execution_count": null,
      "id": "041b287e",
      "metadata": {
        "id": "041b287e"
      },
      "outputs": [],
      "source": [
        "def preprocess_image(file_path):\n",
        "    # Read and decode the image\n",
        "        # Read and decode the image\n",
        "    img = tf.io.read_file(file_path)\n",
        "    img = tf.image.decode_image(img, channels=3)\n",
        "\n",
        "    img = tf.image.resize(img, (299, 299))\n",
        "    img = tf.image.convert_image_dtype(img, dtype=tf.float32)\n",
        "    img = img/255\n",
        "    return img"
      ]
    },
    {
      "cell_type": "code",
      "execution_count": null,
      "id": "a88b8708",
      "metadata": {
        "id": "a88b8708"
      },
      "outputs": [],
      "source": [
        "import random\n",
        "\n",
        "def data_generator(train_image_paths, train_labels, batch_size, start_from_batch=0):\n",
        "    count = 0\n",
        "    batch_images = []\n",
        "    batch_tokens = []\n",
        "    batch_target = []\n",
        "    labels_length = train_labels.shape[0]\n",
        "    start_from = start_from_batch*batch_size\n",
        "\n",
        "    for iter_index in range(start_from, labels_length):\n",
        "\n",
        "        image_path = train_image_paths[iter_index]\n",
        "        caption = train_labels[iter_index]\n",
        "\n",
        "        image = preprocess_image(image_path)\n",
        "        decision = iter_index%2\n",
        "\n",
        "        if decision:\n",
        "            batch_tokens.append(caption)\n",
        "        else:\n",
        "            false_label_index = (iter_index+random.randint(5, labels_length-5))%labels_length\n",
        "            batch_tokens.append(train_labels[false_label_index])\n",
        "        batch_target.append([decision])\n",
        "        batch_images.append(image)\n",
        "        count+=1\n",
        "\n",
        "        if count==batch_size:\n",
        "            batch_images = tf.convert_to_tensor(batch_images)\n",
        "            batch_tokens = tf.convert_to_tensor(batch_tokens)\n",
        "            batch_target = tf.convert_to_tensor(batch_target)\n",
        "\n",
        "            yield [batch_images, batch_tokens], batch_target\n",
        "\n",
        "            batch_images = []\n",
        "            batch_tokens = []\n",
        "            batch_target = []\n",
        "            count=0\n",
        "\n"
      ]
    },
    {
      "cell_type": "code",
      "execution_count": null,
      "id": "4d1d37ab",
      "metadata": {
        "id": "4d1d37ab"
      },
      "outputs": [],
      "source": [
        "from tensorflow.keras import layers\n",
        "from tensorflow.keras import regularizers as reg"
      ]
    },
    {
      "cell_type": "code",
      "execution_count": null,
      "id": "98ccb1d0",
      "metadata": {
        "id": "98ccb1d0"
      },
      "outputs": [],
      "source": [
        "image_model = tf.keras.Sequential([\n",
        "\n",
        "    layers.Conv2D(64, (3, 3), padding=\"same\", kernel_regularizer=reg.l2(1e-3)),\n",
        "    layers.BatchNormalization(),\n",
        "    layers.ReLU(),\n",
        "    layers.MaxPooling2D((2, 2)),\n",
        "    layers.Dropout(0.1),\n",
        "    layers.Conv2D(64, (3, 3), kernel_regularizer=reg.l2(1e-3)),\n",
        "    layers.BatchNormalization(),\n",
        "    layers.ReLU(),\n",
        "    layers.MaxPooling2D((2, 2)),\n",
        "    layers.Dropout(0.1),\n",
        "\n",
        "    layers.Conv2D(128, (3, 3),  padding=\"same\", kernel_regularizer=reg.l2(1e-3)),\n",
        "    layers.BatchNormalization(),\n",
        "    layers.ReLU(),\n",
        "    layers.MaxPooling2D((2, 2)),\n",
        "    layers.Dropout(0.2),\n",
        "    layers.Conv2D(128, (3, 3), kernel_regularizer=reg.l2(1e-3)),\n",
        "    layers.BatchNormalization(),\n",
        "    layers.ReLU(),\n",
        "    layers.MaxPooling2D((2, 2)),\n",
        "    layers.Dropout(0.1),\n",
        "\n",
        "    layers.Conv2D(256, (3, 3), padding=\"same\", kernel_regularizer=reg.l2(1e-3)),\n",
        "    layers.BatchNormalization(),\n",
        "    layers.ReLU(),\n",
        "    layers.MaxPooling2D((2, 2)),\n",
        "    layers.Dropout(0.2),\n",
        "    layers.Conv2D(256, (3, 3), kernel_regularizer=reg.l2(1e-3)),\n",
        "    layers.BatchNormalization(),\n",
        "    layers.ReLU(),\n",
        "    layers.MaxPooling2D((2, 2)),\n",
        "    layers.Dropout(0.2),\n",
        "\n",
        "    # Flatten the input\n",
        "    layers.GlobalAveragePooling2D(),\n",
        "\n",
        "    # Dense layers\n",
        "    layers.Dense(512, kernel_regularizer=reg.l2(1e-3)),\n",
        "    layers.BatchNormalization(),\n",
        "    layers.ReLU()\n",
        "])\n"
      ]
    },
    {
      "cell_type": "code",
      "execution_count": null,
      "id": "cbdcb1fb",
      "metadata": {
        "id": "cbdcb1fb"
      },
      "outputs": [],
      "source": [
        "image_input = layers.Input(shape=(299,299,3), name=\"image_input\")\n",
        "\n",
        "image_features = image_model(image_input)"
      ]
    },
    {
      "cell_type": "code",
      "execution_count": null,
      "id": "ed4910bf",
      "metadata": {
        "colab": {
          "base_uri": "https://localhost:8080/"
        },
        "id": "ed4910bf",
        "outputId": "878c5ed4-aaf9-4ce5-b787-422f1613cc66"
      },
      "outputs": [
        {
          "output_type": "execute_result",
          "data": {
            "text/plain": [
              "<KerasTensor: shape=(None, 512) dtype=float32 (created by layer 'dropout_8')>"
            ]
          },
          "metadata": {},
          "execution_count": 23
        }
      ],
      "source": [
        "text_input = layers.Input(shape=(max_length, ), name=\"text_input\")\n",
        "\n",
        "embedding_layer = layers.Embedding(input_dim=vocab_size,\n",
        "                                   output_dim=300,\n",
        "                                   mask_zero=True,\n",
        "                                   input_length=max_length)\n",
        "\n",
        "embedding_output = embedding_layer(text_input)\n",
        "\n",
        "lstm_layer_1 = layers.Bidirectional(layers.LSTM(units=64, return_sequences=True))(embedding_output)\n",
        "lstm_layer_1 = layers.Dropout(0.1)(lstm_layer_1)\n",
        "\n",
        "lstm_layer_2 = layers.Bidirectional(layers.LSTM(units=128, return_sequences=True))(lstm_layer_1)\n",
        "lstm_layer_2 = layers.Dropout(0.1)(lstm_layer_2)\n",
        "\n",
        "lstm_layer_3 = layers.Bidirectional(layers.LSTM(units=256))(lstm_layer_2)\n",
        "lstm_layer_3 = layers.Dropout(0.1)(lstm_layer_3)\n",
        "\n",
        "text_features = lstm_layer_3\n",
        "text_features"
      ]
    },
    {
      "cell_type": "code",
      "execution_count": null,
      "id": "afec5221",
      "metadata": {
        "colab": {
          "base_uri": "https://localhost:8080/"
        },
        "id": "afec5221",
        "outputId": "e2dd0a1f-ec57-478b-9ffc-14e0367defab"
      },
      "outputs": [
        {
          "output_type": "execute_result",
          "data": {
            "text/plain": [
              "<KerasTensor: shape=(None, 1024) dtype=float32 (created by layer 'concatenate')>"
            ]
          },
          "metadata": {},
          "execution_count": 24
        }
      ],
      "source": [
        "concatted_features = layers.Concatenate(axis=1)([image_features, text_features])\n",
        "concatted_features"
      ]
    },
    {
      "cell_type": "code",
      "execution_count": null,
      "id": "ae272c55",
      "metadata": {
        "colab": {
          "base_uri": "https://localhost:8080/"
        },
        "id": "ae272c55",
        "outputId": "e8a33409-7d61-4fcb-bcbf-f13eebe9909f"
      },
      "outputs": [
        {
          "output_type": "execute_result",
          "data": {
            "text/plain": [
              "<KerasTensor: shape=(None, 1) dtype=float32 (created by layer 'dense_2')>"
            ]
          },
          "metadata": {},
          "execution_count": 25
        }
      ],
      "source": [
        "dense_layer_final = layers.Dense(512, kernel_regularizer=reg.l2(1e-3))(concatted_features)\n",
        "dense_layer_final = layers.BatchNormalization()(dense_layer_final)\n",
        "dense_layer_final = layers.ReLU()(dense_layer_final)\n",
        "\n",
        "decision_layer = layers.Dense(1, activation=\"sigmoid\")\n",
        "model_output = decision_layer(dense_layer_final)\n",
        "model_output"
      ]
    },
    {
      "cell_type": "code",
      "execution_count": null,
      "id": "e3b6a419",
      "metadata": {
        "colab": {
          "base_uri": "https://localhost:8080/"
        },
        "id": "e3b6a419",
        "outputId": "bd900b49-4b73-43d3-f19c-73c806e1f3f4"
      },
      "outputs": [
        {
          "output_type": "stream",
          "name": "stdout",
          "text": [
            "Model: \"model\"\n",
            "__________________________________________________________________________________________________\n",
            " Layer (type)                Output Shape                 Param #   Connected to                  \n",
            "==================================================================================================\n",
            " text_input (InputLayer)     [(None, 100)]                0         []                            \n",
            "                                                                                                  \n",
            " embedding (Embedding)       (None, 100, 300)             4903500   ['text_input[0][0]']          \n",
            "                                                                                                  \n",
            " bidirectional (Bidirection  (None, 100, 128)             186880    ['embedding[0][0]']           \n",
            " al)                                                                                              \n",
            "                                                                                                  \n",
            " dropout_6 (Dropout)         (None, 100, 128)             0         ['bidirectional[0][0]']       \n",
            "                                                                                                  \n",
            " bidirectional_1 (Bidirecti  (None, 100, 256)             263168    ['dropout_6[0][0]']           \n",
            " onal)                                                                                            \n",
            "                                                                                                  \n",
            " dropout_7 (Dropout)         (None, 100, 256)             0         ['bidirectional_1[0][0]']     \n",
            "                                                                                                  \n",
            " image_input (InputLayer)    [(None, 299, 299, 3)]        0         []                            \n",
            "                                                                                                  \n",
            " bidirectional_2 (Bidirecti  (None, 512)                  1050624   ['dropout_7[0][0]']           \n",
            " onal)                                                                                            \n",
            "                                                                                                  \n",
            " sequential (Sequential)     (None, 512)                  1282624   ['image_input[0][0]']         \n",
            "                                                                                                  \n",
            " dropout_8 (Dropout)         (None, 512)                  0         ['bidirectional_2[0][0]']     \n",
            "                                                                                                  \n",
            " concatenate (Concatenate)   (None, 1024)                 0         ['sequential[0][0]',          \n",
            "                                                                     'dropout_8[0][0]']           \n",
            "                                                                                                  \n",
            " dense_1 (Dense)             (None, 512)                  524800    ['concatenate[0][0]']         \n",
            "                                                                                                  \n",
            " batch_normalization_7 (Bat  (None, 512)                  2048      ['dense_1[0][0]']             \n",
            " chNormalization)                                                                                 \n",
            "                                                                                                  \n",
            " re_lu_7 (ReLU)              (None, 512)                  0         ['batch_normalization_7[0][0]'\n",
            "                                                                    ]                             \n",
            "                                                                                                  \n",
            " dense_2 (Dense)             (None, 1)                    513       ['re_lu_7[0][0]']             \n",
            "                                                                                                  \n",
            "==================================================================================================\n",
            "Total params: 8214157 (31.33 MB)\n",
            "Trainable params: 8210317 (31.32 MB)\n",
            "Non-trainable params: 3840 (15.00 KB)\n",
            "__________________________________________________________________________________________________\n"
          ]
        }
      ],
      "source": [
        "its_model = tf.keras.Model(inputs=[image_input, text_input], outputs=model_output)\n",
        "its_model.summary()"
      ]
    },
    {
      "cell_type": "code",
      "execution_count": null,
      "id": "404a6d2b",
      "metadata": {
        "id": "404a6d2b"
      },
      "outputs": [],
      "source": [
        "# Compile the model\n",
        "its_model.compile(optimizer=tf.keras.optimizers.legacy.Adam(0.001),\n",
        "                  loss=\"binary_crossentropy\", metrics=[\"accuracy\"])\n"
      ]
    },
    {
      "cell_type": "code",
      "execution_count": null,
      "id": "914bd695",
      "metadata": {
        "id": "914bd695"
      },
      "outputs": [],
      "source": [
        "train_data_generator = data_generator(train_image_paths,\n",
        "                                      train_labels,\n",
        "                                      batch_size=32,\n",
        "                                      start_from_batch=2000)\n",
        "\n",
        "val_data_generator = data_generator(val_image_paths,\n",
        "                                    val_labels,\n",
        "                                    batch_size=32)\n"
      ]
    },
    {
      "cell_type": "code",
      "source": [
        "class SaveModelCallback(tf.keras.callbacks.Callback):\n",
        "    def __init__(self, checkpoint_path, save_steps=250):\n",
        "        super(SaveModelCallback, self).__init__()\n",
        "        self.checkpoint_path = checkpoint_path\n",
        "        self.save_steps = save_steps\n",
        "\n",
        "    def on_batch_end(self, batch, logs=None):\n",
        "        if (batch + 1) % self.save_steps == 0:\n",
        "\n",
        "            self.model.save(self.checkpoint_path.format(batch=batch+1))"
      ],
      "metadata": {
        "id": "KWsxDpNWLCAE"
      },
      "id": "KWsxDpNWLCAE",
      "execution_count": null,
      "outputs": []
    },
    {
      "cell_type": "code",
      "source": [
        "# Initialize the callback\n",
        "checkpoint_path = '/content/drive/MyDrive/flickr30k_images/model_checkpoint_{batch}.keras'\n",
        "save_callback = SaveModelCallback(checkpoint_path)"
      ],
      "metadata": {
        "id": "IRPwR3vELG5t"
      },
      "id": "IRPwR3vELG5t",
      "execution_count": null,
      "outputs": []
    },
    {
      "cell_type": "code",
      "source": [
        "its_model.load_weights('/content/drive/MyDrive/flickr30k_images/model_checkpoint_1000.keras')\n"
      ],
      "metadata": {
        "id": "PQafG5TodjQG"
      },
      "id": "PQafG5TodjQG",
      "execution_count": null,
      "outputs": []
    },
    {
      "cell_type": "code",
      "execution_count": null,
      "id": "0ed76dee",
      "metadata": {
        "scrolled": true,
        "id": "0ed76dee"
      },
      "outputs": [],
      "source": [
        "its_model.fit(train_data_generator,\n",
        "              # validation_data=val_data_generator,\n",
        "              callbacks = [save_callback],\n",
        "              epochs=1)\n"
      ]
    },
    {
      "cell_type": "code",
      "source": [
        "import tensorflow as tf\n",
        "\n",
        "# Assuming you have a validation data generator named val_generator\n",
        "\n",
        "# Initialize variables to accumulate correct predictions and total number of samples\n",
        "correct_predictions = 0\n",
        "num_samples = 0\n",
        "\n",
        "# Iterate over the validation generator\n",
        "for x_val, y_val in val_data_generator:\n",
        "    # Make predictions using your model\n",
        "    y_pred = its_model.predict(x_val)\n",
        "\n",
        "    # Convert predicted probabilities to binary predictions (0 or 1)\n",
        "    y_true = tf.cast(y_val, dtype=tf.float32)\n",
        "\n",
        "    # Apply thresholding\n",
        "    binary_predictions = tf.round(y_pred)\n",
        "\n",
        "    # Ensure predictions are in the range [0, 1]\n",
        "    binary_predictions = tf.clip_by_value(binary_predictions, 0, 1)\n",
        "    # print(y_true)\n",
        "    # print(binary_predictions)\n",
        "    # Count correct predictions\n",
        "    correct_predictions += tf.reduce_sum(tf.cast(binary_predictions == y_true, dtype=tf.float32))\n",
        "    print((tf.reduce_sum(tf.cast(binary_predictions == y_true, dtype=tf.float32))/32).numpy())\n",
        "    # Update total number of samples\n",
        "    num_samples += len(x_val)\n",
        "\n",
        "# Calculate accuracy\n",
        "accuracy = correct_predictions / num_samples\n",
        "\n",
        "print(\"Accuracy on Validation Data:\", accuracy.numpy())\n"
      ],
      "metadata": {
        "id": "HM7coRsI-dc4"
      },
      "id": "HM7coRsI-dc4",
      "execution_count": null,
      "outputs": []
    },
    {
      "cell_type": "code",
      "source": [
        "its_model.save('/content/drive/MyDrive/flickr30k_images/model_checkpoint_3ep.keras')"
      ],
      "metadata": {
        "id": "IlJBId0hrMDF"
      },
      "id": "IlJBId0hrMDF",
      "execution_count": null,
      "outputs": []
    },
    {
      "cell_type": "code",
      "execution_count": null,
      "id": "6d72d7e5",
      "metadata": {
        "id": "6d72d7e5"
      },
      "outputs": [],
      "source": []
    }
  ],
  "metadata": {
    "kernelspec": {
      "display_name": "Python 3",
      "name": "python3"
    },
    "language_info": {
      "codemirror_mode": {
        "name": "ipython",
        "version": 3
      },
      "file_extension": ".py",
      "mimetype": "text/x-python",
      "name": "python",
      "nbconvert_exporter": "python",
      "pygments_lexer": "ipython3",
      "version": "3.11.5"
    },
    "colab": {
      "provenance": [],
      "gpuType": "T4"
    },
    "accelerator": "GPU"
  },
  "nbformat": 4,
  "nbformat_minor": 5
}